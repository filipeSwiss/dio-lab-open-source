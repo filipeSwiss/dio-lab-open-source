{
  "nbformat": 4,
  "nbformat_minor": 0,
  "metadata": {
    "colab": {
      "provenance": [],
      "authorship_tag": "ABX9TyN4Rb9W9f0Ja8vPNrXjUy7V",
      "include_colab_link": true
    },
    "kernelspec": {
      "name": "python3",
      "display_name": "Python 3"
    },
    "language_info": {
      "name": "python"
    }
  },
  "cells": [
    {
      "cell_type": "markdown",
      "metadata": {
        "id": "view-in-github",
        "colab_type": "text"
      },
      "source": [
        "<a href=\"https://colab.research.google.com/github/filipeSwiss/dio-lab-open-source/blob/main/Dadosfilipe.ipynb\" target=\"_parent\"><img src=\"https://colab.research.google.com/assets/colab-badge.svg\" alt=\"Open In Colab\"/></a>"
      ]
    },
    {
      "cell_type": "code",
      "execution_count": 6,
      "metadata": {
        "colab": {
          "base_uri": "https://localhost:8080/"
        },
        "id": "4TBSF-8heSyY",
        "outputId": "dc2db900-11b4-4b5e-a934-2853d7a6a116"
      },
      "outputs": [
        {
          "output_type": "stream",
          "name": "stdout",
          "text": [
            "ETL finalizado!\n"
          ]
        }
      ],
      "source": [
        "import pandas as pd\n",
        "\n",
        "dados = pd.read_csv('Dadosfilipe.csv')\n",
        "\n",
        "dados['Nome'] = dados['Nome'] + 'dev'\n",
        "\n",
        "# dados['idade'] = dados['idade'] + 2\n",
        "\n",
        "dados.to_csv('dados_transformados.csv', index=False)\n",
        "\n",
        "print(\"ETL finalizado!\")\n",
        "\n"
      ]
    }
  ]
}